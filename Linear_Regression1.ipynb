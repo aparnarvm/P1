{
  "nbformat": 4,
  "nbformat_minor": 0,
  "metadata": {
    "colab": {
      "provenance": [],
      "mount_file_id": "1_VkdePODLg4ZHOPgU_xmrUNbWvfpj_s3",
      "authorship_tag": "ABX9TyO1Sjb23JXkaB8zF7QJU7Vg",
      "include_colab_link": true
    },
    "kernelspec": {
      "name": "python3",
      "display_name": "Python 3"
    },
    "language_info": {
      "name": "python"
    }
  },
  "cells": [
    {
      "cell_type": "markdown",
      "metadata": {
        "id": "view-in-github",
        "colab_type": "text"
      },
      "source": [
        "<a href=\"https://colab.research.google.com/github/aparnarvm/P1/blob/main/Linear_Regression1.ipynb\" target=\"_parent\"><img src=\"https://colab.research.google.com/assets/colab-badge.svg\" alt=\"Open In Colab\"/></a>"
      ]
    },
    {
      "cell_type": "markdown",
      "source": [
        "**Regression**\n",
        "\n",
        "Linear Regression"
      ],
      "metadata": {
        "id": "Qdi0xaeeWgHd"
      }
    },
    {
      "cell_type": "code",
      "execution_count": 2,
      "metadata": {
        "id": "rlDYSNqZWetN"
      },
      "outputs": [],
      "source": [
        "# import library\n",
        "import pandas as pd\n",
        "import matplotlib.pyplot as plt\n",
        "import math"
      ]
    },
    {
      "cell_type": "code",
      "source": [
        "from google.colab import drive\n",
        "drive.mount('/content/drive')"
      ],
      "metadata": {
        "colab": {
          "base_uri": "https://localhost:8080/"
        },
        "id": "XLo9k-LEX6Sg",
        "outputId": "6404948c-d555-4d84-a30b-249c25f08156"
      },
      "execution_count": 3,
      "outputs": [
        {
          "output_type": "stream",
          "name": "stdout",
          "text": [
            "Drive already mounted at /content/drive; to attempt to forcibly remount, call drive.mount(\"/content/drive\", force_remount=True).\n"
          ]
        }
      ]
    },
    {
      "cell_type": "code",
      "source": [
        "# import data\n",
        "data = pd.read_csv(\"/content/drive/MyDrive/Salary_dataset.csv\")\n",
        "print(data.info())\n",
        "print(data.head())"
      ],
      "metadata": {
        "colab": {
          "base_uri": "https://localhost:8080/"
        },
        "id": "ob5_U5BwXdGq",
        "outputId": "acb68552-5f55-4687-da24-def051def6d5"
      },
      "execution_count": 22,
      "outputs": [
        {
          "output_type": "stream",
          "name": "stdout",
          "text": [
            "<class 'pandas.core.frame.DataFrame'>\n",
            "RangeIndex: 30 entries, 0 to 29\n",
            "Data columns (total 3 columns):\n",
            " #   Column           Non-Null Count  Dtype  \n",
            "---  ------           --------------  -----  \n",
            " 0   Unnamed: 0       30 non-null     int64  \n",
            " 1   YearsExperience  30 non-null     float64\n",
            " 2   Salary           30 non-null     float64\n",
            "dtypes: float64(2), int64(1)\n",
            "memory usage: 848.0 bytes\n",
            "None\n",
            "   Unnamed: 0  YearsExperience   Salary\n",
            "0           0              1.2  39344.0\n",
            "1           1              1.4  46206.0\n",
            "2           2              1.6  37732.0\n",
            "3           3              2.1  43526.0\n",
            "4           4              2.3  39892.0\n"
          ]
        }
      ]
    },
    {
      "cell_type": "code",
      "source": [
        "print(data.describe())"
      ],
      "metadata": {
        "colab": {
          "base_uri": "https://localhost:8080/"
        },
        "id": "ISQIRfrDhPqt",
        "outputId": "7f9321a8-3e70-4eec-f552-c22b0567f702"
      },
      "execution_count": 23,
      "outputs": [
        {
          "output_type": "stream",
          "name": "stdout",
          "text": [
            "       Unnamed: 0  YearsExperience         Salary\n",
            "count   30.000000        30.000000      30.000000\n",
            "mean    14.500000         5.413333   76004.000000\n",
            "std      8.803408         2.837888   27414.429785\n",
            "min      0.000000         1.200000   37732.000000\n",
            "25%      7.250000         3.300000   56721.750000\n",
            "50%     14.500000         4.800000   65238.000000\n",
            "75%     21.750000         7.800000  100545.750000\n",
            "max     29.000000        10.600000  122392.000000\n"
          ]
        }
      ]
    },
    {
      "cell_type": "code",
      "source": [
        "# plot data\n",
        "plt.scatter(data.YearsExperience,data.Salary)\n",
        "plt.xlabel(\"YearsExperience\")\n",
        "plt.ylabel(\"Salary\")\n",
        "plt.show()"
      ],
      "metadata": {
        "colab": {
          "base_uri": "https://localhost:8080/",
          "height": 449
        },
        "id": "0A_R7pZTXdRz",
        "outputId": "f14a3473-3cb0-4574-c2cc-20f5e3987301"
      },
      "execution_count": 7,
      "outputs": [
        {
          "output_type": "display_data",
          "data": {
            "text/plain": [
              "<Figure size 640x480 with 1 Axes>"
            ],
            "image/png": "[encoded data removed]"
          },
          "metadata": {}
        }
      ]
    },
    {
      "cell_type": "code",
      "source": [
        "#%% linear regression\n",
        "\n",
        "# sklearn library\n",
        "from sklearn.linear_model import LinearRegression\n",
        "# linear regression model\n",
        "linear_regr = LinearRegression()\n",
        "\n",
        "x = data.YearsExperience.values.reshape(-1,1)\n",
        "y = data.Salary.values.reshape(-1,1)\n",
        "\n",
        "linear_regr.fit(x,y)\n",
        "\n",
        "print('R square: ', linear_regr.score(x, y))\n",
        "print('Correlation: ', math.sqrt(linear_regr.score(x, y)))"
      ],
      "metadata": {
        "colab": {
          "base_uri": "https://localhost:8080/"
        },
        "id": "2n9-yo1UXdT9",
        "outputId": "d4049c8c-d658-42b7-bab8-65ec588eb59c"
      },
      "execution_count": 11,
      "outputs": [
        {
          "output_type": "stream",
          "name": "stdout",
          "text": [
            "R square:  0.9569566641435086\n",
            "Correlation:  0.9782416184887599\n"
          ]
        }
      ]
    },
    {
      "cell_type": "code",
      "source": [
        "#%% prediction\n",
        "import numpy as np\n",
        "\n",
        "print(\"Coefficient for X: \", linear_reg.coef_)\n",
        "print(\"Intercept for X: \", linear_reg.intercept_)\n",
        "print(\"Regression line is: y = \" + str(linear_reg.intercept_[0]) + \" + (x * \" + str(linear_reg.coef_[0][0]) + \")\")\n",
        "\n"
      ],
      "metadata": {
        "colab": {
          "base_uri": "https://localhost:8080/"
        },
        "id": "sxiXBGTHXdWu",
        "outputId": "dc2e1b92-41f6-4d8d-95ec-f87fdee73b56"
      },
      "execution_count": 12,
      "outputs": [
        {
          "output_type": "stream",
          "name": "stdout",
          "text": [
            "Coefficient for X:  [[9449.96232146]]\n",
            "Intercept for X:  [24848.20396652]\n",
            "Regression line is: y = 24848.203966523193 + (x * 9449.962321455077)\n"
          ]
        }
      ]
    },
    {
      "cell_type": "code",
      "source": [
        "# Salary = 24848 + 9449*YearsExperience\n",
        "salary = 24848 + 9449*21\n",
        "print(salary)\n",
        "\n",
        "array = np.array([21]).reshape(-1,1)\n",
        "print(linear_reg.predict(array))"
      ],
      "metadata": {
        "colab": {
          "base_uri": "https://localhost:8080/"
        },
        "id": "TL8Po0zoXdZO",
        "outputId": "2d3a9c9a-2b9b-43b5-b26a-23036d0410c0"
      },
      "execution_count": 16,
      "outputs": [
        {
          "output_type": "stream",
          "name": "stdout",
          "text": [
            "223277\n",
            "[[223297.41271708]]\n"
          ]
        }
      ]
    },
    {
      "cell_type": "code",
      "source": [
        "# visualize line\n",
        "array = np.array([0,1,2,3,4,5,6,7,8,9,10,11,12]).reshape(-1,1) # YearsExperience\n",
        "\n",
        "plt.scatter(x,y)\n",
        "#plt.show()\n",
        "y_head = linear_reg.predict(array)  # Salary\n",
        "plt.plot(array, y_head,color = \"green\")\n",
        "array = np.array([100]).reshape(-1,1)\n",
        "linear_reg.predict(array)"
      ],
      "metadata": {
        "colab": {
          "base_uri": "https://localhost:8080/",
          "height": 447
        },
        "id": "W8Y9frVdXdcq",
        "outputId": "65c7b2e3-7e62-4ce2-df3a-f1de9feb0760"
      },
      "execution_count": 24,
      "outputs": [
        {
          "output_type": "execute_result",
          "data": {
            "text/plain": [
              "array([[969844.43611203]])"
            ]
          },
          "metadata": {},
          "execution_count": 24
        },
        {
          "output_type": "display_data",
          "data": {
            "text/plain": [
              "<Figure size 640x480 with 1 Axes>"
            ],
            "image/png": "[encoded data removed]"
          },
          "metadata": {}
        }
      ]
    },
    {
      "cell_type": "code",
      "source": [
        "y_head = linear_reg.predict(x)  # Salary\n",
        "from sklearn.metrics import r2_score\n",
        "print(\"r_square score: \", r2_score(y,y_head))"
      ],
      "metadata": {
        "colab": {
          "base_uri": "https://localhost:8080/"
        },
        "id": "hzNZY7i6fdYO",
        "outputId": "ec765fbe-87ef-4a50-b390-96db50495dff"
      },
      "execution_count": 20,
      "outputs": [
        {
          "output_type": "stream",
          "name": "stdout",
          "text": [
            "r_square score:  0.9569566641435086\n"
          ]
        }
      ]
    }
  ]
}